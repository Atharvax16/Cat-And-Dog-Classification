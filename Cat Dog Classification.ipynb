{
 "cells": [
  {
   "cell_type": "code",
   "execution_count": 47,
   "id": "89dce282",
   "metadata": {
    "scrolled": true
   },
   "outputs": [],
   "source": [
    "import tensorflow as tf\n",
    "from tensorflow.keras import layers, models\n",
    "from tensorflow.keras.preprocessing.image import ImageDataGenerator\n",
    "import matplotlib.pyplot as plt"
   ]
  },
  {
   "cell_type": "code",
   "execution_count": 48,
   "id": "e135940f",
   "metadata": {},
   "outputs": [],
   "source": [
    "train_dir = r'C:\\python\\Bharat internship\\train'\n",
    "test_dir = r'C:\\python\\Bharat internship\\test'\n",
    "img_size = (128, 128)\n",
    "batch_size = 32"
   ]
  },
  {
   "cell_type": "code",
   "execution_count": 49,
   "id": "d12eb722",
   "metadata": {},
   "outputs": [],
   "source": [
    "train_datagen = ImageDataGenerator(\n",
    "    rescale=1./255,\n",
    "    shear_range=0.2,\n",
    "    zoom_range=0.2,\n",
    "    horizontal_flip=True\n",
    ")"
   ]
  },
  {
   "cell_type": "code",
   "execution_count": 50,
   "id": "0d5af4d1",
   "metadata": {},
   "outputs": [],
   "source": [
    "test_datagen = ImageDataGenerator(rescale=1./255)"
   ]
  },
  {
   "cell_type": "code",
   "execution_count": 51,
   "id": "04339ab6",
   "metadata": {},
   "outputs": [
    {
     "name": "stdout",
     "output_type": "stream",
     "text": [
      "Found 557 images belonging to 2 classes.\n"
     ]
    }
   ],
   "source": [
    "train_generator = train_datagen.flow_from_directory(\n",
    "    train_dir,\n",
    "    target_size=img_size,\n",
    "    batch_size=batch_size,\n",
    "    class_mode='binary'\n",
    ")"
   ]
  },
  {
   "cell_type": "code",
   "execution_count": 52,
   "id": "5cc1fe4c",
   "metadata": {},
   "outputs": [
    {
     "name": "stdout",
     "output_type": "stream",
     "text": [
      "Found 140 images belonging to 2 classes.\n"
     ]
    }
   ],
   "source": [
    "test_generator = test_datagen.flow_from_directory(\n",
    "    test_dir,\n",
    "    target_size=img_size,\n",
    "    batch_size=batch_size,\n",
    "    class_mode='binary'\n",
    ")"
   ]
  },
  {
   "cell_type": "code",
   "execution_count": 53,
   "id": "8677ec90",
   "metadata": {},
   "outputs": [],
   "source": [
    "model = models.Sequential()\n",
    "model.add(layers.Conv2D(32, (3, 3), activation='relu', input_shape=(128, 128, 3)))\n",
    "model.add(layers.MaxPooling2D((2, 2)))\n",
    "model.add(layers.Conv2D(64, (3, 3), activation='relu'))\n",
    "model.add(layers.MaxPooling2D((2, 2)))\n",
    "model.add(layers.Conv2D(128, (3, 3), activation='relu'))\n",
    "model.add(layers.MaxPooling2D((2, 2)))\n",
    "model.add(layers.Flatten())\n",
    "model.add(layers.Dense(128, activation='relu'))\n",
    "model.add(layers.Dropout(0.5))\n",
    "model.add(layers.Dense(1, activation='sigmoid'))"
   ]
  },
  {
   "cell_type": "code",
   "execution_count": 54,
   "id": "0687973f",
   "metadata": {},
   "outputs": [
    {
     "name": "stdout",
     "output_type": "stream",
     "text": [
      "Epoch 1/20\n",
      "17/17 [==============================] - 17s 825ms/step - loss: 0.7428 - accuracy: 0.4781 - val_loss: 0.6922 - val_accuracy: 0.4922\n",
      "Epoch 2/20\n",
      "17/17 [==============================] - 13s 773ms/step - loss: 0.6942 - accuracy: 0.5143 - val_loss: 0.6916 - val_accuracy: 0.4688\n",
      "Epoch 3/20\n",
      "17/17 [==============================] - 13s 770ms/step - loss: 0.6912 - accuracy: 0.5143 - val_loss: 0.6901 - val_accuracy: 0.5156\n",
      "Epoch 4/20\n",
      "17/17 [==============================] - 13s 777ms/step - loss: 0.6882 - accuracy: 0.5657 - val_loss: 0.7052 - val_accuracy: 0.4688\n",
      "Epoch 5/20\n",
      "17/17 [==============================] - 13s 788ms/step - loss: 0.6843 - accuracy: 0.5352 - val_loss: 0.6873 - val_accuracy: 0.6484\n",
      "Epoch 6/20\n",
      "17/17 [==============================] - 14s 803ms/step - loss: 0.6780 - accuracy: 0.5562 - val_loss: 0.6940 - val_accuracy: 0.5234\n",
      "Epoch 7/20\n",
      "17/17 [==============================] - 14s 797ms/step - loss: 0.6656 - accuracy: 0.5867 - val_loss: 0.6838 - val_accuracy: 0.5625\n",
      "Epoch 8/20\n",
      "17/17 [==============================] - 14s 816ms/step - loss: 0.6783 - accuracy: 0.6133 - val_loss: 0.6715 - val_accuracy: 0.6562\n",
      "Epoch 9/20\n",
      "17/17 [==============================] - 14s 831ms/step - loss: 0.6704 - accuracy: 0.6190 - val_loss: 0.6779 - val_accuracy: 0.6094\n",
      "Epoch 10/20\n",
      "17/17 [==============================] - 14s 819ms/step - loss: 0.6241 - accuracy: 0.6495 - val_loss: 0.7228 - val_accuracy: 0.5391\n",
      "Epoch 11/20\n",
      "17/17 [==============================] - 14s 819ms/step - loss: 0.6181 - accuracy: 0.6667 - val_loss: 0.7185 - val_accuracy: 0.6562\n",
      "Epoch 12/20\n",
      "17/17 [==============================] - 14s 820ms/step - loss: 0.5956 - accuracy: 0.6990 - val_loss: 0.6734 - val_accuracy: 0.6328\n",
      "Epoch 13/20\n",
      "17/17 [==============================] - 14s 835ms/step - loss: 0.5759 - accuracy: 0.7257 - val_loss: 0.8727 - val_accuracy: 0.5781\n",
      "Epoch 14/20\n",
      "17/17 [==============================] - 14s 832ms/step - loss: 0.5605 - accuracy: 0.7105 - val_loss: 0.7125 - val_accuracy: 0.6094\n",
      "Epoch 15/20\n",
      "17/17 [==============================] - 14s 811ms/step - loss: 0.5523 - accuracy: 0.7314 - val_loss: 0.6708 - val_accuracy: 0.6641\n",
      "Epoch 16/20\n",
      "17/17 [==============================] - 14s 827ms/step - loss: 0.5345 - accuracy: 0.7410 - val_loss: 0.6788 - val_accuracy: 0.6328\n",
      "Epoch 17/20\n",
      "17/17 [==============================] - 13s 772ms/step - loss: 0.5212 - accuracy: 0.7482 - val_loss: 0.6719 - val_accuracy: 0.6250\n",
      "Epoch 18/20\n",
      "17/17 [==============================] - 13s 773ms/step - loss: 0.4814 - accuracy: 0.7810 - val_loss: 0.8073 - val_accuracy: 0.5781\n",
      "Epoch 19/20\n",
      "17/17 [==============================] - 14s 829ms/step - loss: 0.4715 - accuracy: 0.7810 - val_loss: 0.7511 - val_accuracy: 0.6328\n",
      "Epoch 20/20\n",
      "17/17 [==============================] - 15s 879ms/step - loss: 0.4409 - accuracy: 0.7943 - val_loss: 0.8768 - val_accuracy: 0.6094\n"
     ]
    }
   ],
   "source": [
    "model.compile(optimizer='adam', loss='binary_crossentropy', metrics=['accuracy'])\n",
    "\n",
    "# Train the model\n",
    "history = model.fit(\n",
    "    train_generator,\n",
    "    steps_per_epoch=train_generator.samples // batch_size,\n",
    "    epochs=20,\n",
    "    validation_data=test_generator,\n",
    "    validation_steps=test_generator.samples // batch_size\n",
    ")\n"
   ]
  },
  {
   "cell_type": "code",
   "execution_count": 55,
   "id": "0d0d924a",
   "metadata": {},
   "outputs": [
    {
     "name": "stdout",
     "output_type": "stream",
     "text": [
      "4/4 [==============================] - 2s 363ms/step - loss: 0.8544 - accuracy: 0.6250\n",
      "Test Accuracy: 0.625\n"
     ]
    }
   ],
   "source": [
    "test_loss, test_acc = model.evaluate(test_generator, steps=test_generator.samples // batch_size)\n",
    "print(f'Test Accuracy: {test_acc}')"
   ]
  },
  {
   "cell_type": "code",
   "execution_count": null,
   "id": "232c4df5",
   "metadata": {},
   "outputs": [],
   "source": []
  }
 ],
 "metadata": {
  "kernelspec": {
   "display_name": "Python 3 (ipykernel)",
   "language": "python",
   "name": "python3"
  },
  "language_info": {
   "codemirror_mode": {
    "name": "ipython",
    "version": 3
   },
   "file_extension": ".py",
   "mimetype": "text/x-python",
   "name": "python",
   "nbconvert_exporter": "python",
   "pygments_lexer": "ipython3",
   "version": "3.11.2"
  }
 },
 "nbformat": 4,
 "nbformat_minor": 5
}
